{
 "cells": [
  {
   "cell_type": "code",
   "execution_count": 11,
   "outputs": [],
   "source": [
    "import pandas as pd\n",
    "\n",
    "runs = 30\n",
    "dim = 2\n",
    "# load from saved file"
   ],
   "metadata": {
    "collapsed": false,
    "pycharm": {
     "name": "#%%\n"
    }
   }
  },
  {
   "cell_type": "code",
   "execution_count": 2,
   "outputs": [],
   "source": [
    "bestFitness = pd.read_csv('experiment_%d_runs_dim_%d.csv' % (runs, dim), header=[0, 1], index_col=0)"
   ],
   "metadata": {
    "collapsed": false,
    "pycharm": {
     "name": "#%%\n"
    }
   }
  },
  {
   "cell_type": "code",
   "execution_count": null,
   "outputs": [],
   "source": [
    "\n",
    "print(bestFitness.describe())\n",
    "bestFitness.boxplot()"
   ],
   "metadata": {
    "collapsed": false,
    "pycharm": {
     "name": "#%%\n"
    }
   }
  },
  {
   "cell_type": "code",
   "execution_count": null,
   "outputs": [],
   "source": [
    "dim = 10\n",
    "bestFitness = pd.read_csv('experiment_%d_runs_dim_%d.csv' % (runs, dim), header=[0, 1], index_col=0)"
   ],
   "metadata": {
    "collapsed": false,
    "pycharm": {
     "name": "#%%\n"
    }
   }
  },
  {
   "cell_type": "code",
   "execution_count": null,
   "outputs": [],
   "source": [
    "print(bestFitness.describe())\n",
    "bestFitness.boxplot()"
   ],
   "metadata": {
    "collapsed": false,
    "pycharm": {
     "name": "#%%\n"
    }
   }
  },
  {
   "cell_type": "code",
   "execution_count": null,
   "outputs": [],
   "source": [
    "# dim = 10\n",
    "# bestFitness_10 = pd.read_csv('experiment_%d_runs_dim_%d.csv'%(runs, dim), header=[0, 1], index_col=0)"
   ],
   "metadata": {
    "collapsed": false,
    "pycharm": {
     "name": "#%%\n"
    }
   }
  },
  {
   "cell_type": "code",
   "execution_count": null,
   "outputs": [],
   "source": [
    "# print(bestFitness_10.describe())\n",
    "# bestFitness_10.boxplot()"
   ],
   "metadata": {
    "collapsed": false,
    "pycharm": {
     "name": "#%%\n"
    }
   }
  },
  {
   "cell_type": "code",
   "execution_count": null,
   "outputs": [],
   "source": [
    "from scipy import stats\n",
    "\n",
    "significance_level = 0.05\n",
    "# Test Normality with Shapiro-Wilk test\n",
    "stat1, p1 = stats.shapiro(bestFitness[bestFitness.columns[0]])\n",
    "print('stat=%.3f, p=%.3f' % (stat1, p1))\n",
    "stat2, p2 = stats.shapiro(bestFitness[bestFitness.columns[1]])\n",
    "print('stat=%.3f, p=%.3f' % (stat2, p2))\n",
    "if p1 > significance_level and p2 > significance_level:\n",
    "    print('Normally distributed')\n",
    "else:\n",
    "    print('Not Normally distributed')"
   ],
   "metadata": {
    "collapsed": false,
    "pycharm": {
     "name": "#%%\n"
    }
   }
  },
  {
   "cell_type": "code",
   "execution_count": null,
   "outputs": [],
   "source": [],
   "metadata": {
    "collapsed": false,
    "pycharm": {
     "name": "#%%\n"
    }
   }
  },
  {
   "cell_type": "code",
   "execution_count": null,
   "outputs": [],
   "source": [
    "# print(bestFitness_10.describe())\n",
    "# bestFitness_10.boxplot()"
   ],
   "metadata": {
    "collapsed": false,
    "pycharm": {
     "name": "#%%\n"
    }
   }
  },
  {
   "cell_type": "code",
   "execution_count": null,
   "outputs": [],
   "source": [
    "from scipy import stats\n",
    "\n",
    "significance_level = 0.05\n",
    "# Test Normality with Shapiro-Wilk test\n",
    "stat1, p1 = stats.shapiro(bestFitness[bestFitness.columns[0]])\n",
    "print('stat=%.3f, p=%.3f' % (stat1, p1))\n",
    "stat2, p2 = stats.shapiro(bestFitness[bestFitness.columns[1]])\n",
    "print('stat=%.3f, p=%.3f' % (stat2, p2))\n",
    "if p1 > significance_level and p2 > significance_level:\n",
    "    print('Normally distributed')\n",
    "else:\n",
    "    print('Not Normally distributed')"
   ],
   "metadata": {
    "collapsed": false,
    "pycharm": {
     "name": "#%%\n"
    }
   }
  },
  {
   "cell_type": "code",
   "execution_count": null,
   "outputs": [],
   "source": [],
   "metadata": {
    "collapsed": false,
    "pycharm": {
     "name": "#%%\n"
    }
   }
  },
  {
   "cell_type": "code",
   "execution_count": null,
   "outputs": [],
   "source": [
    "# print(bestFitness_10.describe())\n",
    "# bestFitness_10.boxplot()"
   ],
   "metadata": {
    "collapsed": false,
    "pycharm": {
     "name": "#%%\n"
    }
   }
  },
  {
   "cell_type": "code",
   "execution_count": null,
   "outputs": [],
   "source": [
    "from scipy import stats\n",
    "\n",
    "significance_level = 0.05\n",
    "# Test Normality with Shapiro-Wilk test\n",
    "stat1, p1 = stats.shapiro(bestFitness[bestFitness.columns[0]])\n",
    "print('stat=%.3f, p=%.3f' % (stat1, p1))\n",
    "stat2, p2 = stats.shapiro(bestFitness[bestFitness.columns[1]])\n",
    "print('stat=%.3f, p=%.3f' % (stat2, p2))\n",
    "if p1 > significance_level and p2 > significance_level:\n",
    "    print('Normally distributed')\n",
    "else:\n",
    "    print('Not Normally distributed')"
   ],
   "metadata": {
    "collapsed": false,
    "pycharm": {
     "name": "#%%\n"
    }
   }
  },
  {
   "cell_type": "markdown",
   "source": [
    "Both samples are not normally distributed\n",
    "Also, two populations are not appaired (we have two algorithms and this method have random generator inside and we think it generates random number for every algorithm)\n",
    "We have to apply Mann-Whitney U Test."
   ],
   "metadata": {
    "collapsed": false,
    "pycharm": {
     "name": "#%% md\n"
    }
   }
  },
  {
   "cell_type": "code",
   "execution_count": null,
   "outputs": [],
   "source": [
    "# Example of the Mann-Whitney U Test\n",
    "from scipy.stats import mannwhitneyu\n",
    "data1 = bestFitness[bestFitness.columns[0]]\n",
    "data2 = bestFitness[bestFitness.columns[1]]\n",
    "stat, p = mannwhitneyu(data1, data2)\n",
    "print('stat=%.3f, p=%.3f' % (stat, p))\n",
    "if p > 0.05:\n",
    "    print('Probably the same distribution')\n",
    "else:\n",
    "    print('Probably different distributions')"
   ],
   "metadata": {
    "collapsed": false,
    "pycharm": {
     "name": "#%%\n"
    }
   }
  },
  {
   "cell_type": "code",
   "execution_count": 5,
   "outputs": [],
   "source": [],
   "metadata": {
    "collapsed": false,
    "pycharm": {
     "name": "#%%\n"
    }
   }
  },
  {
   "cell_type": "code",
   "execution_count": 6,
   "outputs": [],
   "source": [
    "# print(bestFitness_10.describe())\n",
    "# bestFitness_10.boxplot()"
   ],
   "metadata": {
    "collapsed": false,
    "pycharm": {
     "name": "#%%\n"
    }
   }
  },
  {
   "cell_type": "code",
   "execution_count": 7,
   "outputs": [
    {
     "name": "stdout",
     "output_type": "stream",
     "text": [
      "stat=0.517, p=0.000\n",
      "stat=0.370, p=0.000\n",
      "Not Normally distributed\n"
     ]
    }
   ],
   "source": [
    "from scipy import stats\n",
    "\n",
    "significance_level = 0.05\n",
    "# Test Normality with Shapiro-Wilk test\n",
    "stat1, p1 = stats.shapiro(bestFitness[bestFitness.columns[0]])\n",
    "print('stat=%.3f, p=%.3f' % (stat1, p1))\n",
    "stat2, p2 = stats.shapiro(bestFitness[bestFitness.columns[1]])\n",
    "print('stat=%.3f, p=%.3f' % (stat2, p2))\n",
    "if p1 > significance_level and p2 > significance_level:\n",
    "    print('Normally distributed')\n",
    "else:\n",
    "    print('Not Normally distributed')"
   ],
   "metadata": {
    "collapsed": false,
    "pycharm": {
     "name": "#%%\n"
    }
   }
  },
  {
   "cell_type": "markdown",
   "source": [
    "Both samples are not normally distributed\n",
    "Also, two populations are not appaired (we have two algorithms and this method have random generator inside and we think it generates random number for every algorithm)\n",
    "We have to apply Mann-Whitney U Test."
   ],
   "metadata": {
    "collapsed": false,
    "pycharm": {
     "name": "#%% md\n"
    }
   }
  },
  {
   "cell_type": "code",
   "execution_count": 8,
   "outputs": [
    {
     "name": "stdout",
     "output_type": "stream",
     "text": [
      "stat=554.000, p=0.126\n",
      "Probably the same distribution\n"
     ]
    }
   ],
   "source": [
    "# Example of the Mann-Whitney U Test\n",
    "from scipy.stats import mannwhitneyu\n",
    "data1 = bestFitness[bestFitness.columns[0]]\n",
    "data2 = bestFitness[bestFitness.columns[1]]\n",
    "stat, p = mannwhitneyu(data1, data2)\n",
    "print('stat=%.3f, p=%.3f' % (stat, p))\n",
    "if p > 0.05:\n",
    "    print('Probably the same distribution')\n",
    "else:\n",
    "    print('Probably different distributions')"
   ],
   "metadata": {
    "collapsed": false,
    "pycharm": {
     "name": "#%%\n"
    }
   }
  },
  {
   "cell_type": "code",
   "execution_count": null,
   "outputs": [],
   "source": [],
   "metadata": {
    "collapsed": false,
    "pycharm": {
     "name": "#%%\n"
    }
   }
  },
  {
   "cell_type": "code",
   "execution_count": null,
   "outputs": [],
   "source": [
    "# print(bestFitness_10.describe())\n",
    "# bestFitness_10.boxplot()"
   ],
   "metadata": {
    "collapsed": false,
    "pycharm": {
     "name": "#%%\n"
    }
   }
  },
  {
   "cell_type": "code",
   "execution_count": null,
   "outputs": [],
   "source": [
    "from scipy import stats\n",
    "\n",
    "significance_level = 0.05\n",
    "# Test Normality with Shapiro-Wilk test\n",
    "stat1, p1 = stats.shapiro(bestFitness[bestFitness.columns[0]])\n",
    "print('stat=%.3f, p=%.3f' % (stat1, p1))\n",
    "stat2, p2 = stats.shapiro(bestFitness[bestFitness.columns[1]])\n",
    "print('stat=%.3f, p=%.3f' % (stat2, p2))\n",
    "if p1 > significance_level and p2 > significance_level:\n",
    "    print('Normally distributed')\n",
    "else:\n",
    "    print('Not Normally distributed')"
   ],
   "metadata": {
    "collapsed": false,
    "pycharm": {
     "name": "#%%\n"
    }
   }
  },
  {
   "cell_type": "markdown",
   "source": [
    "Both samples are not normally distributed\n",
    "Also, two populations are not appaired (we have two algorithms and this method have random generator inside and we think it generates random number for every algorithm)\n",
    "We have to apply Mann-Whitney U Test."
   ],
   "metadata": {
    "collapsed": false,
    "pycharm": {
     "name": "#%% md\n"
    }
   }
  },
  {
   "cell_type": "code",
   "execution_count": null,
   "outputs": [],
   "source": [
    "# Example of the Mann-Whitney U Test\n",
    "from scipy.stats import mannwhitneyu\n",
    "data1 = bestFitness[bestFitness.columns[0]]\n",
    "data2 = bestFitness[bestFitness.columns[1]]\n",
    "stat, p = mannwhitneyu(data1, data2)\n",
    "print('stat=%.3f, p=%.3f' % (stat, p))\n",
    "if p > 0.05:\n",
    "    print('Probably the same distribution')\n",
    "else:\n",
    "    print('Probably different distributions')"
   ],
   "metadata": {
    "collapsed": false,
    "pycharm": {
     "name": "#%%\n"
    }
   }
  },
  {
   "cell_type": "code",
   "execution_count": null,
   "outputs": [],
   "source": [],
   "metadata": {
    "collapsed": false,
    "pycharm": {
     "name": "#%%\n"
    }
   }
  },
  {
   "cell_type": "code",
   "execution_count": 7,
   "outputs": [],
   "source": [
    "# print(bestFitness_10.describe())\n",
    "# bestFitness_10.boxplot()"
   ],
   "metadata": {
    "collapsed": false,
    "pycharm": {
     "name": "#%%\n"
    }
   }
  },
  {
   "cell_type": "code",
   "execution_count": 9,
   "outputs": [
    {
     "name": "stdout",
     "output_type": "stream",
     "text": [
      "stat=0.517, p=0.000\n",
      "stat=0.370, p=0.000\n",
      "Not Normally distributed\n"
     ]
    }
   ],
   "source": [
    "from scipy import stats\n",
    "\n",
    "significance_level = 0.05\n",
    "# Test Normality with Shapiro-Wilk test\n",
    "stat1, p1 = stats.shapiro(bestFitness[bestFitness.columns[0]])\n",
    "print('stat=%.3f, p=%.3f' % (stat1, p1))\n",
    "stat2, p2 = stats.shapiro(bestFitness[bestFitness.columns[1]])\n",
    "print('stat=%.3f, p=%.3f' % (stat2, p2))\n",
    "if p1 > significance_level and p2 > significance_level:\n",
    "    print('Normally distributed')\n",
    "else:\n",
    "    print('Not Normally distributed')"
   ],
   "metadata": {
    "collapsed": false,
    "pycharm": {
     "name": "#%%\n"
    }
   }
  },
  {
   "cell_type": "markdown",
   "source": [
    "Both samples are not normally distributed\n",
    "Also, two populations are not appaired (we have two algorithms and this method have random generator inside and we think it generates random number for every algorithm)\n",
    "We have to apply Mann-Whitney U Test."
   ],
   "metadata": {
    "collapsed": false,
    "pycharm": {
     "name": "#%% md\n"
    }
   }
  },
  {
   "cell_type": "code",
   "execution_count": 10,
   "outputs": [
    {
     "name": "stdout",
     "output_type": "stream",
     "text": [
      "stat=554.000, p=0.126\n",
      "Probably the same distribution\n"
     ]
    }
   ],
   "source": [
    "# Example of the Mann-Whitney U Test\n",
    "from scipy.stats import mannwhitneyu\n",
    "data1 = bestFitness[bestFitness.columns[0]]\n",
    "data2 = bestFitness[bestFitness.columns[1]]\n",
    "stat, p = mannwhitneyu(data1, data2)\n",
    "print('stat=%.3f, p=%.3f' % (stat, p))\n",
    "if p > 0.05:\n",
    "    print('Probably the same distribution')\n",
    "else:\n",
    "    print('Probably different distributions')"
   ],
   "metadata": {
    "collapsed": false,
    "pycharm": {
     "name": "#%%\n"
    }
   }
  },
  {
   "cell_type": "code",
   "execution_count": null,
   "outputs": [],
   "source": [],
   "metadata": {
    "collapsed": false,
    "pycharm": {
     "name": "#%%\n"
    }
   }
  }
 ],
 "metadata": {
  "kernelspec": {
   "display_name": "Python 3",
   "language": "python",
   "name": "python3"
  },
  "language_info": {
   "codemirror_mode": {
    "name": "ipython",
    "version": 2
   },
   "file_extension": ".py",
   "mimetype": "text/x-python",
   "name": "python",
   "nbconvert_exporter": "python",
   "pygments_lexer": "ipython2",
   "version": "2.7.6"
  }
 },
 "nbformat": 4,
 "nbformat_minor": 0
}
